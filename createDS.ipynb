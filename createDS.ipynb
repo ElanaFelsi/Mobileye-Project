{
 "cells": [
  {
   "cell_type": "markdown",
   "metadata": {},
   "source": [
    "# Create Data Set"
   ]
  },
  {
   "cell_type": "code",
   "execution_count": 162,
   "metadata": {},
   "outputs": [],
   "source": [
    "%matplotlib inline\n",
    "import matplotlib.pyplot as plt\n",
    "import imageio\n",
    "import numpy as np\n",
    "import random\n",
    "import os"
   ]
  },
  {
   "cell_type": "markdown",
   "metadata": {},
   "source": [
    "## Crop images - 81x81x3"
   ]
  },
  {
   "cell_type": "code",
   "execution_count": 163,
   "metadata": {},
   "outputs": [],
   "source": [
    "def cropped_traffic_lights(original_img, label_img, data, labels):    \n",
    "    mask = ((label_img[:,:,0]==250) & (label_img[:,:,1]==170)  & (label_img[:,:,2]==30))\n",
    "    Ti, Tj = np.where(mask == True)\n",
    "    Fi, Fj = np.where(mask == False)\n",
    "    size = 40\n",
    "\n",
    "    for i in range(5):\n",
    "        try:\n",
    "            rT=random.randint(0,len(Ti))\n",
    "            rF=random.randint(0,len(Fi))\n",
    "            \n",
    "            Tx ,Ty = Ti[rT],Tj[rT]\n",
    "            Fx, Fy = Fi[rF],Fj[rF]\n",
    "            \n",
    "            tl_cropped = original_img[Tx-size:Tx+size+1,Ty-size:Ty+size+1, :]\n",
    "            np.ndarray.tofile(tl_cropped, data)\n",
    "            labels.write(b'1')\n",
    "            \n",
    "            ntl_cropped = original_img[Fx-size:Fx+size+1,Fy-size:Fy+size+1, :] \n",
    "            np.ndarray.tofile(ntl_cropped, data)\n",
    "            labels.write(b'0')\n",
    "            \n",
    "        except:\n",
    "            break"
   ]
  },
  {
   "cell_type": "markdown",
   "metadata": {},
   "source": [
    "## Laod TRAIN Directories images, crop and save to binary file"
   ]
  },
  {
   "cell_type": "code",
   "execution_count": 164,
   "metadata": {},
   "outputs": [],
   "source": [
    "label_dir = r'C:\\Users\\USER\\BootCamp\\Python\\Mobileye Project\\CityScapes\\gtFine\\train'\n",
    "img_dir = r'C:\\Users\\USER\\BootCamp\\Python\\Mobileye Project\\CityScapes\\leftImg8bit\\train'"
   ]
  },
  {
   "cell_type": "code",
   "execution_count": 170,
   "metadata": {},
   "outputs": [],
   "source": [
    "images = []\n",
    "for r, d, f in os.walk(img_dir):\n",
    "    for img in f:\n",
    "        if '.png' in img:\n",
    "            images.append(os.path.join(r, img))         "
   ]
  },
  {
   "cell_type": "code",
   "execution_count": 172,
   "metadata": {},
   "outputs": [
    {
     "name": "stdout",
     "output_type": "stream",
     "text": [
      "logging... 0 / 2975\n",
      "logging... 100 / 2975\n",
      "logging... 200 / 2975\n",
      "logging... 300 / 2975\n",
      "logging... 400 / 2975\n",
      "logging... 500 / 2975\n",
      "logging... 600 / 2975\n",
      "logging... 700 / 2975\n",
      "logging... 800 / 2975\n",
      "logging... 900 / 2975\n",
      "logging... 1000 / 2975\n",
      "logging... 1100 / 2975\n",
      "logging... 1200 / 2975\n",
      "logging... 1300 / 2975\n",
      "logging... 1400 / 2975\n",
      "logging... 1500 / 2975\n",
      "logging... 1600 / 2975\n",
      "logging... 1700 / 2975\n",
      "logging... 1800 / 2975\n",
      "logging... 1900 / 2975\n",
      "logging... 2000 / 2975\n",
      "logging... 2100 / 2975\n",
      "logging... 2200 / 2975\n",
      "logging... 2300 / 2975\n",
      "logging... 2400 / 2975\n",
      "logging... 2500 / 2975\n",
      "logging... 2600 / 2975\n",
      "logging... 2700 / 2975\n",
      "logging... 2800 / 2975\n",
      "logging... 2900 / 2975\n"
     ]
    }
   ],
   "source": [
    "with open('data.bin', 'ab') as data:\n",
    "    with open('labels.bin', 'ab') as labels:\n",
    "        for i in range(len(images)):\n",
    "            color_path = images[i].replace(img_dir,\"\").replace(\"_leftImg8bit.png\",\"_gtFine_color.png\")\n",
    "            label_img = imageio.imread(label_dir + color_path)\n",
    "            original_img = imageio.imread(files[i])\n",
    "            cropped_traffic_lights(original_img, label_img, data, labels)\n",
    "            if i % 100 == 0:\n",
    "                print(f\"logging... {i} / {len(images)}\")\n",
    "        print(\"end\")"
   ]
  },
  {
   "cell_type": "markdown",
   "metadata": {},
   "source": [
    "## Do the saim for VAL"
   ]
  },
  {
   "cell_type": "code",
   "execution_count": 173,
   "metadata": {},
   "outputs": [
    {
     "name": "stdout",
     "output_type": "stream",
     "text": [
      "logging... 0 / 500\n",
      "logging... 100 / 500\n",
      "logging... 200 / 500\n",
      "logging... 300 / 500\n",
      "logging... 400 / 500\n",
      "end\n"
     ]
    }
   ],
   "source": [
    "label_dir = r'C:\\Users\\USER\\BootCamp\\Python\\Mobileye Project\\CityScapes\\gtFine\\val'\n",
    "img_dir = r'C:\\Users\\USER\\BootCamp\\Python\\Mobileye Project\\CityScapes\\leftImg8bit\\val'\n",
    "\n",
    "images = []\n",
    "for r, d, f in os.walk(img_dir):\n",
    "    for img in f:\n",
    "        if '.png' in img:\n",
    "            images.append(os.path.join(r, img))  \n",
    "            \n",
    "with open('data.bin', 'ab') as data:\n",
    "    with open('labels.bin', 'ab') as labels:\n",
    "        for i in range(len(images)):\n",
    "            color_path = images[i].replace(img_dir,\"\").replace(\"_leftImg8bit.png\",\"_gtFine_color.png\")\n",
    "            label_img = imageio.imread(label_dir + color_path)\n",
    "            original_img = imageio.imread(files[i])\n",
    "            cropped_traffic_lights(original_img, label_img, data, labels)\n",
    "            if i % 100 == 0:\n",
    "                print(f\"logging... {i} / {len(images)}\")\n",
    "        print(\"end\")            "
   ]
  },
  {
   "cell_type": "code",
   "execution_count": null,
   "metadata": {},
   "outputs": [],
   "source": []
  }
 ],
 "metadata": {
  "kernelspec": {
   "display_name": "Python 3",
   "language": "python",
   "name": "python3"
  },
  "language_info": {
   "codemirror_mode": {
    "name": "ipython",
    "version": 3
   },
   "file_extension": ".py",
   "mimetype": "text/x-python",
   "name": "python",
   "nbconvert_exporter": "python",
   "pygments_lexer": "ipython3",
   "version": "3.7.3"
  }
 },
 "nbformat": 4,
 "nbformat_minor": 4
}
